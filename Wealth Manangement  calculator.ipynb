{
 "cells": [
  {
   "cell_type": "markdown",
   "id": "a641f27e",
   "metadata": {},
   "source": [
    "Certainly! Below is a simple wealth management calculator in Python that helps Indian users plan their investments to achieve specific financial goals. This calculator considers factors like current investment, expected annual return rate, investment duration, and the goal amount."
   ]
  },
  {
   "cell_type": "code",
   "execution_count": 2,
   "id": "127886fa",
   "metadata": {},
   "outputs": [
    {
     "name": "stdout",
     "output_type": "stream",
     "text": [
      "Welcome to the Wealth Management Calculator!\n",
      "Enter your current investment amount (in INR): 500000\n",
      "Enter the expected annual return rate (in %): 12\n",
      "Enter the duration of investment (in years): 5\n",
      "Enter your financial goal amount (in INR): 600000\n",
      "\n",
      "Congratulations! Your current investment will meet your financial goal!\n",
      "Future Value of your investment after 5 years will be: INR 881,170.84\n"
     ]
    }
   ],
   "source": [
    "def wealth_management_calculator():\n",
    "    print(\"Welcome to the Wealth Management Calculator!\")\n",
    "    \n",
    "    # Input current investment amount\n",
    "    current_investment = float(input(\"Enter your current investment amount (in INR): \"))\n",
    "    \n",
    "    # Input expected annual return rate\n",
    "    annual_return_rate = float(input(\"Enter the expected annual return rate (in %): \")) / 100\n",
    "    \n",
    "    # Input duration of investment in years\n",
    "    years = int(input(\"Enter the duration of investment (in years): \"))\n",
    "    \n",
    "    # Input goal amount\n",
    "    goal_amount = float(input(\"Enter your financial goal amount (in INR): \"))\n",
    "\n",
    "    # Calculate the future value of the current investment\n",
    "    future_value = current_investment * (1 + annual_return_rate) ** years\n",
    "    \n",
    "    # Additional investment needed to reach the goal\n",
    "    if future_value >= goal_amount:\n",
    "        print(\"\\nCongratulations! Your current investment will meet your financial goal!\")\n",
    "        print(f\"Future Value of your investment after {years} years will be: INR {future_value:,.2f}\")\n",
    "    else:\n",
    "        additional_investment_needed = (goal_amount - future_value) / ((1 + annual_return_rate) ** years - 1) / annual_return_rate\n",
    "        print(\"\\nYou will need to make additional investments to reach your financial goal.\")\n",
    "        print(f\"Future Value of your current investment after {years} years will be: INR {future_value:,.2f}\")\n",
    "        print(f\"You need to invest an additional INR {additional_investment_needed:,.2f} per year.\")\n",
    "\n",
    "# Run the wealth management calculator\n",
    "wealth_management_calculator()"
   ]
  },
  {
   "cell_type": "markdown",
   "id": "797aaae0",
   "metadata": {},
   "source": [
    "How to Use the Calculator:\n",
    "Run the code in a Python environment.\n",
    "Input the required values when prompted:\n",
    "Current investment amount in INR\n",
    "Expected annual return rate (in percentage)\n",
    "Duration of investment in years\n",
    "Your financial goal amount in INR\n",
    "The calculator will output whether your current investment will meet your goal or how much more you need to invest annually to reach it."
   ]
  },
  {
   "cell_type": "code",
   "execution_count": null,
   "id": "39d6d09f",
   "metadata": {},
   "outputs": [],
   "source": []
  }
 ],
 "metadata": {
  "kernelspec": {
   "display_name": "Python 3 (ipykernel)",
   "language": "python",
   "name": "python3"
  },
  "language_info": {
   "codemirror_mode": {
    "name": "ipython",
    "version": 3
   },
   "file_extension": ".py",
   "mimetype": "text/x-python",
   "name": "python",
   "nbconvert_exporter": "python",
   "pygments_lexer": "ipython3",
   "version": "3.11.4"
  }
 },
 "nbformat": 4,
 "nbformat_minor": 5
}
